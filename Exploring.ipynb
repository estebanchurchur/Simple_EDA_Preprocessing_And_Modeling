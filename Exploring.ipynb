{
 "cells": [
  {
   "cell_type": "markdown",
   "id": "6a514f52",
   "metadata": {},
   "source": [
    "## Exploratory Data Analysis\n",
    "1. For the user to understand the data\n",
    "2. Can include plots, charts and summaries\n",
    "3. You can introduce \"bias\" for exploration e.g grouping things\n",
    "4. Strings/categorical data are okay\n",
    "5. Messy Data is acceptable"
   ]
  },
  {
   "cell_type": "code",
   "execution_count": null,
   "id": "b66b8533",
   "metadata": {},
   "outputs": [],
   "source": [
    "import pandas as pd"
   ]
  },
  {
   "cell_type": "markdown",
   "id": "5eba7d14",
   "metadata": {},
   "source": [
    "### Normal data checking"
   ]
  },
  {
   "cell_type": "code",
   "execution_count": null,
   "id": "67834198",
   "metadata": {},
   "outputs": [],
   "source": [
    "data = pd.read_csv(\"Telco-Customer-Churn.csv\")\n",
    "data.head()"
   ]
  },
  {
   "cell_type": "code",
   "execution_count": null,
   "id": "5b9d011e",
   "metadata": {},
   "outputs": [],
   "source": [
    "print(data.shape)"
   ]
  },
  {
   "cell_type": "code",
   "execution_count": null,
   "id": "e7d6c270",
   "metadata": {},
   "outputs": [],
   "source": [
    "data.describe()"
   ]
  },
  {
   "cell_type": "code",
   "execution_count": null,
   "id": "a712f54c",
   "metadata": {},
   "outputs": [],
   "source": [
    "data.info()"
   ]
  },
  {
   "cell_type": "code",
   "execution_count": null,
   "id": "6f2c6eaf",
   "metadata": {},
   "outputs": [],
   "source": [
    "data.isnull().sum()"
   ]
  },
  {
   "cell_type": "markdown",
   "id": "a7d5ad9c",
   "metadata": {},
   "source": [
    "    The dataset has no nulls"
   ]
  },
  {
   "cell_type": "markdown",
   "id": "19e5a94b",
   "metadata": {},
   "source": [
    "### EDA on numeric data"
   ]
  },
  {
   "cell_type": "markdown",
   "id": "252390d8",
   "metadata": {},
   "source": [
    "#### Checking for correlations in my data that a model can learn(numeric data)"
   ]
  },
  {
   "cell_type": "code",
   "execution_count": null,
   "id": "aa606635",
   "metadata": {},
   "outputs": [],
   "source": [
    "import seaborn as sns\n",
    "import matplotlib.pyplot as plt\n",
    "\n",
    "numeric_df = data.select_dtypes(include='number')\n",
    "numeric_df.columns"
   ]
  },
  {
   "cell_type": "markdown",
   "id": "9d66c862",
   "metadata": {},
   "source": [
    "#### From the Ploted correlation matrix\n",
    "1. tenure and monthly charges have the most correlation"
   ]
  },
  {
   "cell_type": "code",
   "execution_count": null,
   "id": "6e2bd251",
   "metadata": {},
   "outputs": [],
   "source": [
    "corr = numeric_df.corr()\n",
    "plt.figure(figsize=(10,6))\n",
    "sns.heatmap(corr,annot=True, cmap='coolwarm')\n",
    "plt.title(\"Correlation Matrix\")\n",
    "plt.show()"
   ]
  },
  {
   "cell_type": "markdown",
   "id": "b61ead35",
   "metadata": {},
   "source": [
    "#### From the histograms:\n",
    "1. Distribution of senior Citizens - there are fewer senior citizens than non-senior citizens.\n",
    "2. Monthly charges of 20 are the most occuring"
   ]
  },
  {
   "cell_type": "code",
   "execution_count": null,
   "id": "552857ae",
   "metadata": {},
   "outputs": [],
   "source": [
    "import seaborn as sns\n",
    "import matplotlib.pyplot as plt\n",
    "\n",
    "for col in data.select_dtypes(include='number').columns:\n",
    "    sns.histplot(data[col], kde=True)\n",
    "    plt.title(f'Distribution of {col}')\n",
    "    plt.show()"
   ]
  },
  {
   "cell_type": "markdown",
   "id": "e68bab0e",
   "metadata": {},
   "source": [
    "#### From the box plots:\n",
    "1. There are now outliers or large skewness in the other plots except for the binary plot for senior citizens"
   ]
  },
  {
   "cell_type": "code",
   "execution_count": null,
   "id": "484f2e45",
   "metadata": {},
   "outputs": [],
   "source": [
    "for col in data.select_dtypes(include='number').columns:\n",
    "    sns.boxplot(x=data[col])\n",
    "    plt.title(f'Boxplot of {col}')\n",
    "    plt.show()"
   ]
  },
  {
   "cell_type": "markdown",
   "id": "58126458",
   "metadata": {},
   "source": [
    "#### Measuring skewness directly instead of depending on histograms and box plots that might not be clear "
   ]
  },
  {
   "cell_type": "markdown",
   "id": "11619b38",
   "metadata": {},
   "source": [
    "#### From it:\n",
    "1. SeniorCitizen data is too right skewed\n",
    "2. tenure data has normal like distribution\n",
    "3. monthly charges are left skewed.\n",
    "\n",
    "From these observations i can choose to normalize the data and save it to train a model or leave it as it is."
   ]
  },
  {
   "cell_type": "code",
   "execution_count": null,
   "id": "ebc76891",
   "metadata": {},
   "outputs": [],
   "source": [
    "data.select_dtypes(include='number').skew()"
   ]
  },
  {
   "cell_type": "markdown",
   "id": "f7778f65",
   "metadata": {},
   "source": [
    "### EDA on Categorical data"
   ]
  },
  {
   "cell_type": "code",
   "execution_count": null,
   "id": "25fe68ae",
   "metadata": {},
   "outputs": [],
   "source": [
    "cat_cols = data.select_dtypes('object').columns\n",
    "print(cat_cols)"
   ]
  },
  {
   "cell_type": "code",
   "execution_count": null,
   "id": "f64d6e0c",
   "metadata": {},
   "outputs": [],
   "source": [
    "cat_cols.shape"
   ]
  },
  {
   "cell_type": "markdown",
   "id": "e1e71d25",
   "metadata": {},
   "source": [
    "18(numeric cols) + 3(categorical cols) = all the 21 columns we initially had\n",
    "\n",
    "But why are some entries i clearly know should be numeric, such as total charges and churn being identified as categorical?\n",
    "\n",
    "    I can choose to change them into numeric data types and save another clean dataset. I can then perform numeric EDA on the resulting dataset and maybe normalize skewed data columns."
   ]
  },
  {
   "cell_type": "markdown",
   "id": "66f67e2b",
   "metadata": {},
   "source": [
    "#### Check number of unique values per column"
   ]
  },
  {
   "cell_type": "code",
   "execution_count": null,
   "id": "70143392",
   "metadata": {},
   "outputs": [],
   "source": [
    "for col in cat_cols:\n",
    "    print(f\"\\n column: {col}\")\n",
    "    print(data[col].nunique())"
   ]
  },
  {
   "cell_type": "markdown",
   "id": "cffe6079",
   "metadata": {},
   "source": [
    "#### Check for missing and inconsistent categories"
   ]
  },
  {
   "cell_type": "code",
   "execution_count": null,
   "id": "ab5d0094",
   "metadata": {},
   "outputs": [],
   "source": [
    "# i Know i've done this in a cell above but i saw this loop on the web and had to use it somewhere. So here it is:\n",
    "\n",
    "for col in cat_cols:\n",
    "    print(f\"{col} has {data[col].isnull().sum()} missing values\")\n",
    "    print(f\"Unique categories: {data[col].unique()}\")\n",
    "    "
   ]
  },
  {
   "cell_type": "markdown",
   "id": "6ba58e9d",
   "metadata": {},
   "source": [
    "#### Plot Category distributions\n",
    "\n",
    ">N/B: Customer ID will look dirty coz all of its entries are unique and will appear on the countplot axis"
   ]
  },
  {
   "cell_type": "code",
   "execution_count": null,
   "id": "9cc0fae4",
   "metadata": {},
   "outputs": [],
   "source": [
    "import seaborn as sns\n",
    "import matplotlib.pyplot as plt\n",
    "\n",
    "for col in cat_cols:\n",
    "    plt.figure(figsize=(8,4))\n",
    "    sns.countplot(data = data, x = col, order=data[col].value_counts().index)\n",
    "    plt.title(f\"Distribution of {col}\")\n",
    "    plt.xticks(rotation=45)\n",
    "    plt.tight_layout()\n",
    "    plt.show()"
   ]
  },
  {
   "cell_type": "markdown",
   "id": "c3352832",
   "metadata": {},
   "source": [
    "#### See if columns have a relationship with Target variable\n",
    "\n",
    ">I know this is kinda biased but i still find it good to find out, as long as you don't expect your model to see them that way. It will form its own relationships."
   ]
  },
  {
   "cell_type": "code",
   "execution_count": null,
   "id": "bff5c475",
   "metadata": {},
   "outputs": [],
   "source": [
    "for col in cat_cols:\n",
    "    plt.figure(figsize=(8,4))\n",
    "    sns.countplot(data=data, x= col, hue='Churn')\n",
    "    plt.title(f'{col} vs Churn')\n",
    "    plt.xticks(rotation=45)\n",
    "    plt.tight_layout()\n",
    "    plt.show()"
   ]
  },
  {
   "cell_type": "markdown",
   "id": "5c5b131b",
   "metadata": {},
   "source": [
    "#### See How a numeric column like MonthlyCharges varies across categories like if someone has dependants"
   ]
  },
  {
   "cell_type": "code",
   "execution_count": null,
   "id": "322767a6",
   "metadata": {},
   "outputs": [],
   "source": [
    "print(data.groupby('Dependents')['MonthlyCharges'].mean())"
   ]
  },
  {
   "cell_type": "markdown",
   "id": "72378db9",
   "metadata": {},
   "source": [
    "> The output above means customers without dependants pay an average of 67 shillings and those with dependants pay an average of 59 shillings. Thus people without dependants tend to pay more. I'm guessing maybe people with dependants choose cheaper plans and are more loyal? Try to explain it.\n",
    "\n",
    "> Hint: You can choose to dig deeper and count how many customers are in each group and check if there is a big variance."
   ]
  },
  {
   "cell_type": "markdown",
   "id": "371c1fb3",
   "metadata": {},
   "source": [
    "## Remarks:\n",
    "EDA is very broad and can dig deep into intricate details with the right commands. There are infinitely many things you can figure out from your dataset which means you can spend a whole week looking for patterns and causes you imagine(I learned this the hard way) so don't be like me. Get a predefined goal and go talk to the data to realise that goal."
   ]
  }
 ],
 "metadata": {
  "kernelspec": {
   "display_name": "ds_env",
   "language": "python",
   "name": "python3"
  },
  "language_info": {
   "codemirror_mode": {
    "name": "ipython",
    "version": 3
   },
   "file_extension": ".py",
   "mimetype": "text/x-python",
   "name": "python",
   "nbconvert_exporter": "python",
   "pygments_lexer": "ipython3",
   "version": "3.12.6"
  }
 },
 "nbformat": 4,
 "nbformat_minor": 5
}
